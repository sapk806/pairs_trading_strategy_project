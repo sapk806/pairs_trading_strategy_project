{
 "cells": [
  {
   "cell_type": "code",
   "execution_count": 3,
   "id": "54c190e8",
   "metadata": {},
   "outputs": [],
   "source": [
    "import sys\n",
    "import os\n",
    "\n",
    "# Add project root to Python path\n",
    "sys.path.append(os.path.abspath(\"..\"))  # if notebook is in src/\n",
    "sys.path.append(os.path.abspath(\".\"))  # adds current directory\n"
   ]
  },
  {
   "cell_type": "code",
   "execution_count": null,
   "id": "57c3b94b",
   "metadata": {},
   "outputs": [
    {
     "name": "stderr",
     "output_type": "stream",
     "text": [
      "[*********************100%***********************]  10 of 10 completed"
     ]
    },
    {
     "name": "stdout",
     "output_type": "stream",
     "text": [
      "299.9971008300781\n",
      "Ticker             IVV         IWM         QQQ       SCHB         SPY  \\\n",
      "Date                                                                    \n",
      "2020-01-02  299.997101  154.658890  209.091034  12.585974  299.406525   \n",
      "2020-01-03  297.689545  154.052505  207.175781  12.501568  297.139221   \n",
      "2020-01-06  298.866333  154.257721  208.510666  12.550265  298.272858   \n",
      "2020-01-07  298.048157  153.744644  208.481659  12.516179  297.434235   \n",
      "2020-01-08  299.564941  154.220459  210.048676  12.571363  299.019379   \n",
      "...                ...         ...         ...        ...         ...   \n",
      "2022-12-23  371.110779  168.984344  263.268127  14.706377  370.189209   \n",
      "2022-12-27  369.682617  167.850586  259.545959  14.644062  368.729401   \n",
      "2022-12-28  365.195648  165.243973  256.119232  14.460396  364.146881   \n",
      "2022-12-29  371.516022  169.430115  262.362152  14.729335  370.701630   \n",
      "2022-12-30  370.744141  168.955261  262.204620  14.696538  369.725220   \n",
      "\n",
      "Ticker             VOO         VTI        XLF         XLK         XLY  \n",
      "Date                                                                   \n",
      "2020-01-02  274.314575  151.909622  27.973963   88.947205  121.004021  \n",
      "2020-01-03  272.310577  150.942795  27.676941   87.947166  119.974251  \n",
      "2020-01-06  273.330963  151.458496  27.658941   88.156693  120.307976  \n",
      "2020-01-07  272.577240  151.099365  27.478935   88.118599  120.117279  \n",
      "2020-01-08  273.983643  151.845184  27.658941   89.061493  120.479599  \n",
      "...                ...         ...        ...         ...         ...  \n",
      "2022-12-23  339.575409  184.719666  32.571247  122.269623  126.642387  \n",
      "2022-12-27  338.224365  183.947678  32.561665  121.111710  124.587662  \n",
      "2022-12-28  334.074585  181.631714  32.446533  119.158920  123.540688  \n",
      "2022-12-29  340.000061  184.970551  32.897442  122.279449  126.720688  \n",
      "2022-12-30  339.063934  184.497711  32.811100  122.112640  126.378220  \n",
      "\n",
      "[756 rows x 10 columns]\n"
     ]
    },
    {
     "name": "stderr",
     "output_type": "stream",
     "text": [
      "\n"
     ]
    }
   ],
   "source": [
    "import yfinance as yf\n",
    "from CONFIG import universe, start_date, end_date\n",
    "\n",
    "ticker = yf.download(universe, start = start_date, end = end_date, auto_adjust = True)['Close']\n",
    "print(ticker['IVV'].loc[ticker.index[0]])\n",
    "print(ticker)"
   ]
  }
 ],
 "metadata": {
  "kernelspec": {
   "display_name": ".venv",
   "language": "python",
   "name": "python3"
  },
  "language_info": {
   "codemirror_mode": {
    "name": "ipython",
    "version": 3
   },
   "file_extension": ".py",
   "mimetype": "text/x-python",
   "name": "python",
   "nbconvert_exporter": "python",
   "pygments_lexer": "ipython3",
   "version": "3.13.5"
  }
 },
 "nbformat": 4,
 "nbformat_minor": 5
}
